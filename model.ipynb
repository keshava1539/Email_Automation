{
 "cells": [
  {
   "cell_type": "code",
   "execution_count": 5,
   "id": "7584e77e-c56d-4ad2-97c4-542fccfe4555",
   "metadata": {},
   "outputs": [],
   "source": [
    "import langchain\n",
    "from langchain import PromptTemplate\n",
    "import json\n",
    "from langchain_openai import ChatOpenAI \n",
    "from langchain_groq import ChatGroq"
   ]
  },
  {
   "cell_type": "code",
   "execution_count": null,
   "id": "a29a88eb-6bec-42ed-bcd0-555eb6abe3fe",
   "metadata": {},
   "outputs": [],
   "source": [
    "import getpass\n",
    "import os\n",
    "\n",
    "if \"GROQ_API_KEY\" not in os.environ:\n",
    "    os.environ[\"GROQ_API_KEY\"] = getpass.getpass(\"your groq api key\")"
   ]
  },
  {
   "cell_type": "code",
   "execution_count": 7,
   "id": "ef5e1b98-e8bf-4bcf-a03d-be4fa685e6d0",
   "metadata": {},
   "outputs": [],
   "source": [
    "llm = ChatGroq(model=\"llama-3.3-70b-versatile\")"
   ]
  },
  {
   "cell_type": "code",
   "execution_count": 40,
   "id": "86a806ae-ea7e-43a1-9fd7-04777b5aa643",
   "metadata": {},
   "outputs": [],
   "source": [
    "email_generation_template = \"\"\"\n",
    "You are an AI assistant designed to draft emails based on user requests.\n",
    "Your output MUST be a valid JSON object.\n",
    "The JSON object must contain five keys: \"to\", \"subject\", \"body\", \"SMTP_SERVER\" and \"SMTP_PORT\".\n",
    "- \"to\" should be a single email address string (e.g., \"recipient@example.com\").\n",
    "- \"subject\" should be a concise string for the email subject line.\n",
    "- \"body\" should be a string containing the full email content and it should be in a valid letter format with line spaces,but it need to be in json format.\n",
    "- \"SMTP_SERVER\" should be a single SMTP_SERVER (e.g.,\"smtp.gmail.com\" For Gmail).\n",
    "- \"SMTP_PORT\" should be a single value (e.g., 465  For SSL (Gmail))\n",
    "\n",
    "Ensure the email body is professional and directly addresses the user's request.\n",
    "Do NOT include any text outside the JSON object.\n",
    "\n",
    "Context: {context}\n",
    "User Request: {user_request}\n",
    "\n",
    "JSON Output:\n",
    "\"\"\""
   ]
  },
  {
   "cell_type": "code",
   "execution_count": 41,
   "id": "6a24e88a-e7d3-4fc3-ab2e-c7c2163bf24a",
   "metadata": {},
   "outputs": [],
   "source": [
    "EMAIL_PROMPT = PromptTemplate(\n",
    "    template=email_generation_template,\n",
    "    input_variables=[\"user_request\", \"context\"]\n",
    ")"
   ]
  },
  {
   "cell_type": "code",
   "execution_count": 42,
   "id": "c437acac-a4d1-444e-aba6-1c43dba1c33b",
   "metadata": {},
   "outputs": [],
   "source": [
    "user_email_request = \"Draft an email to my friend bhanu(me23bt021@iitdh.ac.in) to encourage him to improve his bgmi gameplay and participate in bgmi tournaments\"\n",
    "email_context = \"My name is KVKR. I am his friend\""
   ]
  },
  {
   "cell_type": "code",
   "execution_count": 43,
   "id": "e3c9f9bf-767b-4828-bedc-8de812ae2d2d",
   "metadata": {},
   "outputs": [],
   "source": [
    "formatted_prompt = EMAIL_PROMPT.format(\n",
    "    user_request=user_email_request,\n",
    "    context=email_context\n",
    ")"
   ]
  },
  {
   "cell_type": "code",
   "execution_count": 44,
   "id": "78147a09-c4d7-4120-9096-81ee95252390",
   "metadata": {},
   "outputs": [
    {
     "name": "stdout",
     "output_type": "stream",
     "text": [
      "\n",
      "You are an AI assistant designed to draft emails based on user requests.\n",
      "Your output MUST be a valid JSON object.\n",
      "The JSON object must contain five keys: \"to\", \"subject\", \"body\", \"SMTP_SERVER\" and \"SMTP_PORT\".\n",
      "- \"to\" should be a single email address string (e.g., \"recipient@example.com\").\n",
      "- \"subject\" should be a concise string for the email subject line.\n",
      "- \"body\" should be a string containing the full email content and it should be in a valid letter format with line spaces,but it need to be in json format.\n",
      "- \"SMTP_SERVER\" should be a single SMTP_SERVER (e.g.,\"smtp.gmail.com\" For Gmail).\n",
      "- \"SMTP_PORT\" should be a single value (e.g., 465  For SSL (Gmail))\n",
      "\n",
      "Ensure the email body is professional and directly addresses the user's request.\n",
      "Do NOT include any text outside the JSON object.\n",
      "\n",
      "Context: My name is KVKR. I am his friend\n",
      "User Request: Draft an email to my friend bhanu(me23bt021@iitdh.ac.in) to encourage him to improve his bgmi gameplay and participate in bgmi tournaments\n",
      "\n",
      "JSON Output:\n",
      "\n"
     ]
    }
   ],
   "source": [
    "print(formatted_prompt)"
   ]
  },
  {
   "cell_type": "code",
   "execution_count": 45,
   "id": "29a3fc84-ce01-451d-91e1-f85ca7ebc088",
   "metadata": {},
   "outputs": [
    {
     "name": "stdout",
     "output_type": "stream",
     "text": [
      "\n",
      "--- Raw LLM Output ---\n",
      "{\n",
      "  \"to\": \"me23bt021@iitdh.ac.in\",\n",
      "  \"subject\": \"Improving BGMI Gameplay and Tournament Participation\",\n",
      "  \"body\": \"Dear Bhanu,\\n\\nI hope this email finds you well. I am writing to encourage you to improve your BGMI gameplay and consider participating in upcoming BGMI tournaments.\\n\\nI have been observing your gameplay, and I believe you have tremendous potential to excel in the game. With dedicated practice and a strategic approach, I am confident that you can enhance your skills and become a formidable player.\\n\\nParticipating in tournaments will not only provide you with valuable experience but also give you the opportunity to compete with other skilled players, learn from them, and gain recognition in the gaming community.\\n\\nI would be happy to help you practice and prepare for tournaments. Let's work together to take your gameplay to the next level.\\n\\nBest regards,\\nKVKR\",\n",
      "  \"SMTP_SERVER\": \"smtp.gmail.com\",\n",
      "  \"SMTP_PORT\": 465\n",
      "}\n"
     ]
    }
   ],
   "source": [
    "llm_response = llm.invoke(formatted_prompt)\n",
    "llm_output_str = llm_response.content\n",
    "\n",
    "print(\"\\n--- Raw LLM Output ---\")\n",
    "print(llm_output_str)"
   ]
  },
  {
   "cell_type": "code",
   "execution_count": 46,
   "id": "9ec2ceb3-6456-408f-a818-b067243df628",
   "metadata": {},
   "outputs": [],
   "source": [
    "import re"
   ]
  },
  {
   "cell_type": "code",
   "execution_count": 47,
   "id": "5679aec6-5d50-4578-be41-1f9d9e329332",
   "metadata": {},
   "outputs": [],
   "source": [
    "cleaned_text = re.sub(r'<think>.*?</think>', '', llm_output_str, flags=re.DOTALL)\n",
    "cleaned_text = re.sub(r'```json\\s*', '', cleaned_text, flags=re.DOTALL)\n",
    "cleaned_text = re.sub(r'\\s*```', '', cleaned_text, flags=re.DOTALL)\n",
    "cleaned_text = cleaned_text.strip()\n",
    "cleaned_text = re.sub(r'\\s*\\n\\s*', '\\n', cleaned_text)\n",
    "cleaned_text = re.sub(r' +', ' ', cleaned_text)"
   ]
  },
  {
   "cell_type": "code",
   "execution_count": 48,
   "id": "c5698d09-4707-43a9-adc0-34a4ef592a4c",
   "metadata": {},
   "outputs": [
    {
     "name": "stdout",
     "output_type": "stream",
     "text": [
      "{\n",
      "\"to\": \"me23bt021@iitdh.ac.in\",\n",
      "\"subject\": \"Improving BGMI Gameplay and Tournament Participation\",\n",
      "\"body\": \"Dear Bhanu,\\n\\nI hope this email finds you well. I am writing to encourage you to improve your BGMI gameplay and consider participating in upcoming BGMI tournaments.\\n\\nI have been observing your gameplay, and I believe you have tremendous potential to excel in the game. With dedicated practice and a strategic approach, I am confident that you can enhance your skills and become a formidable player.\\n\\nParticipating in tournaments will not only provide you with valuable experience but also give you the opportunity to compete with other skilled players, learn from them, and gain recognition in the gaming community.\\n\\nI would be happy to help you practice and prepare for tournaments. Let's work together to take your gameplay to the next level.\\n\\nBest regards,\\nKVKR\",\n",
      "\"SMTP_SERVER\": \"smtp.gmail.com\",\n",
      "\"SMTP_PORT\": 465\n",
      "}\n"
     ]
    }
   ],
   "source": [
    "print(cleaned_text)"
   ]
  },
  {
   "cell_type": "code",
   "execution_count": 49,
   "id": "9aeb77bb-91db-4463-b653-f73f7855c79e",
   "metadata": {},
   "outputs": [
    {
     "name": "stdout",
     "output_type": "stream",
     "text": [
      "\n",
      "--- Parsed Email Data ---\n",
      "To: me23bt021@iitdh.ac.in\n",
      "Subject: Improving BGMI Gameplay and Tournament Participation\n",
      "SMTP_SERVER:\n",
      "smtp.gmail.com\n",
      "SMTP_PORT:\n",
      "465\n"
     ]
    }
   ],
   "source": [
    "try:\n",
    "    email_data = json.loads(cleaned_text)\n",
    "\n",
    "    print(\"\\n--- Parsed Email Data ---\")\n",
    "    print(f\"To: {email_data['to']}\")\n",
    "    print(f\"Subject: {email_data['subject']}\")\n",
    "    print(f\"SMTP_SERVER:\\n{email_data['SMTP_SERVER']}\")\n",
    "    print(f\"SMTP_PORT:\\n{email_data['SMTP_PORT']}\")\n",
    "\n",
    "\n",
    "except json.JSONDecodeError as e:\n",
    "    print(f\"\\nError: Failed to parse JSON output from LLM: {e}\")\n",
    "    print(\"LLM might not have followed the JSON format correctly.\")\n",
    "except KeyError as e:\n",
    "    print(f\"\\nError: Missing expected key in JSON output: {e}\")"
   ]
  },
  {
   "cell_type": "code",
   "execution_count": 50,
   "id": "7c146910-a725-4bb9-9cfa-941a34fdf5d4",
   "metadata": {},
   "outputs": [],
   "source": [
    "import smtplib\n",
    "from email.mime.text import MIMEText\n",
    "from email.mime.multipart import MIMEMultipart\n",
    "import ssl \n",
    "\n",
    "def send_email_via_smtp(sender_email, receiver_email, subject, body, smtp_server, smtp_port, password):\n",
    "    \"\"\"\n",
    "    Sends an email via SMTP.\n",
    "    \"\"\"\n",
    "    try:\n",
    "        # Create a multipart message and set headers\n",
    "        message = MIMEMultipart()\n",
    "        message[\"From\"] = sender_email\n",
    "        message[\"To\"] = receiver_email\n",
    "        message[\"Subject\"] = subject\n",
    "        message.attach(MIMEText(body, \"plain\"))\n",
    "\n",
    "        context = ssl.create_default_context() # Create a secure SSL context\n",
    "\n",
    "        with smtplib.SMTP_SSL(smtp_server, smtp_port, context=context) as server:\n",
    "            server.login(sender_email, password)\n",
    "            server.send_message(message)\n",
    "        print(\"Email sent successfully!\")\n",
    "        return True\n",
    "    except smtplib.SMTPAuthenticationError:\n",
    "        print(\"SMTP Authentication Error: Check your username and password or app password/less secure app access settings.\")\n",
    "        return False\n",
    "    except Exception as e:\n",
    "        print(f\"An error occurred while sending email: {e}\")\n",
    "        return False"
   ]
  },
  {
   "cell_type": "code",
   "execution_count": null,
   "id": "e83cacf1-39ef-4fba-b174-f604c301bdb1",
   "metadata": {},
   "outputs": [
    {
     "name": "stdout",
     "output_type": "stream",
     "text": [
      "Email sent successfully!\n"
     ]
    },
    {
     "data": {
      "text/plain": [
       "True"
      ]
     },
     "execution_count": 51,
     "metadata": {},
     "output_type": "execute_result"
    }
   ],
   "source": [
    "send_email_via_smtp(\"your email\", email_data['to'], email_data['subject'],\n",
    "                         email_data['body'], email_data['SMTP_SERVER'], 465, \"your_app_password\")"
   ]
  },
  {
   "cell_type": "code",
   "execution_count": null,
   "id": "a7b5ae9b-f382-4e0b-850c-1dd2919b755c",
   "metadata": {},
   "outputs": [],
   "source": []
  }
 ],
 "metadata": {
  "kernelspec": {
   "display_name": "Python 3 (ipykernel)",
   "language": "python",
   "name": "python3"
  },
  "language_info": {
   "codemirror_mode": {
    "name": "ipython",
    "version": 3
   },
   "file_extension": ".py",
   "mimetype": "text/x-python",
   "name": "python",
   "nbconvert_exporter": "python",
   "pygments_lexer": "ipython3",
   "version": "3.12.3"
  }
 },
 "nbformat": 4,
 "nbformat_minor": 5
}
